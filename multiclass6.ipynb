{
  "nbformat": 4,
  "nbformat_minor": 0,
  "metadata": {
    "colab": {
      "name": "multiclass6.ipynb",
      "provenance": [],
      "collapsed_sections": []
    },
    "kernelspec": {
      "name": "python3",
      "display_name": "Python 3"
    },
    "language_info": {
      "name": "python"
    }
  },
  "cells": [
    {
      "cell_type": "code",
      "metadata": {
        "id": "FNuZOwaXZaUo"
      },
      "source": [
        "import tensorflow as tf\n",
        "import numpy as np"
      ],
      "execution_count": null,
      "outputs": []
    },
    {
      "cell_type": "code",
      "metadata": {
        "id": "0wIwyj0DZgi6"
      },
      "source": [
        "dataset='/content/drive/MyDrive/Datasets'"
      ],
      "execution_count": null,
      "outputs": []
    },
    {
      "cell_type": "code",
      "metadata": {
        "colab": {
          "base_uri": "https://localhost:8080/"
        },
        "id": "GoQR0SkqZrhJ",
        "outputId": "2e261fd2-5d52-4fd8-bf04-db9465022e79"
      },
      "source": [
        "IMAGE_SIZE=224\n",
        "BATCH_SIZE=64\n",
        "\n",
        "#pre=processing\n",
        "train_datagen=tf.keras.preprocessing.image.ImageDataGenerator(\n",
        "    rescale=1./255,\n",
        "    shear_range=0.2,\n",
        "    zoom_range=0.2,\n",
        "    horizontal_flip=True,\n",
        "    validation_split=0.1\n",
        "    )\n",
        "\n",
        "test_datagen=tf.keras.preprocessing.image.ImageDataGenerator(\n",
        "     rescale=1./255,\n",
        "     validation_split=0.1\n",
        ")\n",
        "\n",
        "train_datagen=train_datagen.flow_from_directory(\n",
        "    dataset,\n",
        "    target_size=(IMAGE_SIZE,IMAGE_SIZE),\n",
        "    batch_size=BATCH_SIZE,\n",
        "    subset='training'\n",
        ")\n",
        "\n",
        "test_datagen=test_datagen.flow_from_directory(\n",
        "    dataset,\n",
        "    target_size=(IMAGE_SIZE,IMAGE_SIZE),\n",
        "    batch_size=BATCH_SIZE,\n",
        "    subset='validation'\n",
        ")"
      ],
      "execution_count": null,
      "outputs": [
        {
          "output_type": "stream",
          "name": "stdout",
          "text": [
            "Found 3596 images belonging to 6 classes.\n",
            "Found 398 images belonging to 6 classes.\n"
          ]
        }
      ]
    },
    {
      "cell_type": "code",
      "metadata": {
        "id": "KbEIjmeFZjzQ"
      },
      "source": [
        "cnn=tf.keras.Sequential()\n",
        "cnn.add(tf.keras.layers.Conv2D(filters=64,padding='same',strides=2,kernel_size=3,activation='relu',input_shape=(224,224,3)))\n",
        "cnn.add(tf.keras.layers.MaxPool2D(pool_size=2,strides=2))\n",
        "\n",
        "cnn.add(tf.keras.layers.Conv2D(filters=32,padding='same',strides=2,kernel_size=3,activation='relu'))\n",
        "cnn.add(tf.keras.layers.MaxPool2D(pool_size=2,strides=2))\n",
        "\n",
        "cnn.add(tf.keras.layers.Conv2D(filters=32,padding='same',strides=2,kernel_size=3,activation='relu'))\n",
        "cnn.add(tf.keras.layers.MaxPool2D(pool_size=2))\n",
        "\n",
        "cnn.add(tf.keras.layers.Flatten())\n",
        "cnn.add(tf.keras.layers.Dense(6,activation='softmax'))"
      ],
      "execution_count": null,
      "outputs": []
    },
    {
      "cell_type": "code",
      "metadata": {
        "id": "SLjawQCFZ4GB"
      },
      "source": [
        "cnn.compile(optimizer=tf.keras.optimizers.Adam(),loss='categorical_crossentropy',metrics=['accuracy'])\n"
      ],
      "execution_count": null,
      "outputs": []
    },
    {
      "cell_type": "code",
      "metadata": {
        "colab": {
          "base_uri": "https://localhost:8080/"
        },
        "id": "ga9krJdUZ6hw",
        "outputId": "808c2693-6925-4ad1-cfe3-06fd9f375b0f"
      },
      "source": [
        "cnn.fit(train_datagen,epochs=30,validation_data=test_datagen)\n"
      ],
      "execution_count": null,
      "outputs": [
        {
          "output_type": "stream",
          "name": "stdout",
          "text": [
            "Epoch 1/30\n",
            "57/57 [==============================] - 1464s 26s/step - loss: 1.4817 - accuracy: 0.4046 - val_loss: 1.3303 - val_accuracy: 0.4523\n",
            "Epoch 2/30\n",
            "57/57 [==============================] - 167s 3s/step - loss: 1.0838 - accuracy: 0.6001 - val_loss: 1.1343 - val_accuracy: 0.5829\n",
            "Epoch 3/30\n",
            "57/57 [==============================] - 174s 3s/step - loss: 0.7541 - accuracy: 0.7358 - val_loss: 0.8926 - val_accuracy: 0.6608\n",
            "Epoch 4/30\n",
            "57/57 [==============================] - 167s 3s/step - loss: 0.6162 - accuracy: 0.7959 - val_loss: 0.8164 - val_accuracy: 0.6910\n",
            "Epoch 5/30\n",
            "57/57 [==============================] - 165s 3s/step - loss: 0.5586 - accuracy: 0.8092 - val_loss: 0.7736 - val_accuracy: 0.6759\n",
            "Epoch 6/30\n",
            "57/57 [==============================] - 170s 3s/step - loss: 0.5015 - accuracy: 0.8265 - val_loss: 0.6896 - val_accuracy: 0.7462\n",
            "Epoch 7/30\n",
            "57/57 [==============================] - 168s 3s/step - loss: 0.4694 - accuracy: 0.8393 - val_loss: 0.7753 - val_accuracy: 0.7286\n",
            "Epoch 8/30\n",
            "57/57 [==============================] - 166s 3s/step - loss: 0.4808 - accuracy: 0.8329 - val_loss: 0.6521 - val_accuracy: 0.7688\n",
            "Epoch 9/30\n",
            "57/57 [==============================] - 173s 3s/step - loss: 0.4332 - accuracy: 0.8426 - val_loss: 0.6277 - val_accuracy: 0.7613\n",
            "Epoch 10/30\n",
            "57/57 [==============================] - 181s 3s/step - loss: 0.4034 - accuracy: 0.8607 - val_loss: 0.7282 - val_accuracy: 0.7010\n",
            "Epoch 11/30\n",
            "57/57 [==============================] - 184s 3s/step - loss: 0.3992 - accuracy: 0.8587 - val_loss: 0.5757 - val_accuracy: 0.7864\n",
            "Epoch 12/30\n",
            "57/57 [==============================] - 177s 3s/step - loss: 0.4031 - accuracy: 0.8543 - val_loss: 0.5849 - val_accuracy: 0.7588\n",
            "Epoch 13/30\n",
            "57/57 [==============================] - 175s 3s/step - loss: 0.3730 - accuracy: 0.8743 - val_loss: 0.6034 - val_accuracy: 0.7839\n",
            "Epoch 14/30\n",
            "57/57 [==============================] - 175s 3s/step - loss: 0.3624 - accuracy: 0.8732 - val_loss: 0.5304 - val_accuracy: 0.8141\n",
            "Epoch 15/30\n",
            "57/57 [==============================] - 178s 3s/step - loss: 0.3423 - accuracy: 0.8788 - val_loss: 0.5312 - val_accuracy: 0.7990\n",
            "Epoch 16/30\n",
            "57/57 [==============================] - 196s 3s/step - loss: 0.3476 - accuracy: 0.8712 - val_loss: 0.4838 - val_accuracy: 0.8568\n",
            "Epoch 17/30\n",
            "57/57 [==============================] - 180s 3s/step - loss: 0.3167 - accuracy: 0.8863 - val_loss: 0.5833 - val_accuracy: 0.8015\n",
            "Epoch 18/30\n",
            "57/57 [==============================] - 179s 3s/step - loss: 0.3382 - accuracy: 0.8821 - val_loss: 0.5269 - val_accuracy: 0.8166\n",
            "Epoch 19/30\n",
            "57/57 [==============================] - 198s 3s/step - loss: 0.3202 - accuracy: 0.8835 - val_loss: 0.4213 - val_accuracy: 0.8518\n",
            "Epoch 20/30\n",
            "57/57 [==============================] - 191s 3s/step - loss: 0.2995 - accuracy: 0.8960 - val_loss: 0.4339 - val_accuracy: 0.8518\n",
            "Epoch 21/30\n",
            "57/57 [==============================] - 189s 3s/step - loss: 0.3191 - accuracy: 0.8838 - val_loss: 0.4950 - val_accuracy: 0.8367\n",
            "Epoch 22/30\n",
            "57/57 [==============================] - 198s 3s/step - loss: 0.2991 - accuracy: 0.8952 - val_loss: 0.4769 - val_accuracy: 0.8342\n",
            "Epoch 23/30\n",
            "57/57 [==============================] - 193s 3s/step - loss: 0.2840 - accuracy: 0.8977 - val_loss: 0.4199 - val_accuracy: 0.8593\n",
            "Epoch 24/30\n",
            "57/57 [==============================] - 192s 3s/step - loss: 0.2698 - accuracy: 0.8991 - val_loss: 0.4629 - val_accuracy: 0.8442\n",
            "Epoch 25/30\n",
            "57/57 [==============================] - 185s 3s/step - loss: 0.2718 - accuracy: 0.9029 - val_loss: 0.4578 - val_accuracy: 0.8342\n",
            "Epoch 26/30\n",
            "57/57 [==============================] - 171s 3s/step - loss: 0.2760 - accuracy: 0.9002 - val_loss: 0.4903 - val_accuracy: 0.8417\n",
            "Epoch 27/30\n",
            "57/57 [==============================] - 167s 3s/step - loss: 0.2605 - accuracy: 0.9007 - val_loss: 0.4221 - val_accuracy: 0.8643\n",
            "Epoch 28/30\n",
            "57/57 [==============================] - 171s 3s/step - loss: 0.2554 - accuracy: 0.9118 - val_loss: 0.3830 - val_accuracy: 0.8568\n",
            "Epoch 29/30\n",
            "57/57 [==============================] - 168s 3s/step - loss: 0.2703 - accuracy: 0.9002 - val_loss: 0.3735 - val_accuracy: 0.8643\n",
            "Epoch 30/30\n",
            "57/57 [==============================] - 169s 3s/step - loss: 0.2834 - accuracy: 0.9029 - val_loss: 0.4064 - val_accuracy: 0.8518\n"
          ]
        },
        {
          "output_type": "execute_result",
          "data": {
            "text/plain": [
              "<keras.callbacks.History at 0x7fbc3e514e50>"
            ]
          },
          "metadata": {},
          "execution_count": 7
        }
      ]
    }
  ]
}