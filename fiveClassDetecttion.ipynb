{
  "nbformat": 4,
  "nbformat_minor": 0,
  "metadata": {
    "colab": {
      "name": "fiveClassDetecttion.ipynb",
      "provenance": [],
      "collapsed_sections": []
    },
    "kernelspec": {
      "name": "python3",
      "display_name": "Python 3"
    },
    "language_info": {
      "name": "python"
    }
  },
  "cells": [
    {
      "cell_type": "code",
      "metadata": {
        "id": "KNCnuug4BISu"
      },
      "source": [
        "import tensorflow as tf\n",
        "import numpy as np"
      ],
      "execution_count": null,
      "outputs": []
    },
    {
      "cell_type": "code",
      "metadata": {
        "id": "-zt6P_lHBZ0O"
      },
      "source": [
        "dataset='/content/drive/MyDrive/Datasets'"
      ],
      "execution_count": null,
      "outputs": []
    },
    {
      "cell_type": "code",
      "metadata": {
        "colab": {
          "base_uri": "https://localhost:8080/"
        },
        "id": "QwB7B6mpBhj_",
        "outputId": "e708e25d-5714-4a88-b96a-9f40ee25185f"
      },
      "source": [
        "IMAGE_SIZE=224\n",
        "BATCH_SIZE=64\n",
        "\n",
        "#pre=processing\n",
        "train_datagen=tf.keras.preprocessing.image.ImageDataGenerator(\n",
        "    rescale=1./255,\n",
        "    shear_range=0.2,\n",
        "    zoom_range=0.2,\n",
        "    horizontal_flip=True,\n",
        "    validation_split=0.1\n",
        "    )\n",
        "\n",
        "test_datagen=tf.keras.preprocessing.image.ImageDataGenerator(\n",
        "     rescale=1./255,\n",
        "     validation_split=0.1\n",
        ")\n",
        "\n",
        "train_datagen=train_datagen.flow_from_directory(\n",
        "    dataset,\n",
        "    target_size=(IMAGE_SIZE,IMAGE_SIZE),\n",
        "    batch_size=BATCH_SIZE,\n",
        "    subset='training'\n",
        ")\n",
        "\n",
        "test_datagen=test_datagen.flow_from_directory(\n",
        "    dataset,\n",
        "    target_size=(IMAGE_SIZE,IMAGE_SIZE),\n",
        "    batch_size=BATCH_SIZE,\n",
        "    subset='validation'\n",
        ")"
      ],
      "execution_count": null,
      "outputs": [
        {
          "output_type": "stream",
          "name": "stdout",
          "text": [
            "Found 2873 images belonging to 5 classes.\n",
            "Found 318 images belonging to 5 classes.\n"
          ]
        }
      ]
    },
    {
      "cell_type": "code",
      "metadata": {
        "id": "dHT1ey9gBrhO"
      },
      "source": [
        "cnn=tf.keras.Sequential()\n",
        "cnn.add(tf.keras.layers.Conv2D(filters=64,padding='same',strides=2,kernel_size=3,activation='relu',input_shape=(224,224,3)))\n",
        "cnn.add(tf.keras.layers.MaxPool2D(pool_size=2,strides=2))\n",
        "\n",
        "cnn.add(tf.keras.layers.Conv2D(filters=32,padding='same',strides=2,kernel_size=3,activation='relu'))\n",
        "cnn.add(tf.keras.layers.MaxPool2D(pool_size=2,strides=2))\n",
        "\n",
        "cnn.add(tf.keras.layers.Conv2D(filters=32,padding='same',strides=2,kernel_size=3,activation='relu'))\n",
        "cnn.add(tf.keras.layers.MaxPool2D(pool_size=2))\n",
        "\n",
        "cnn.add(tf.keras.layers.Flatten())\n",
        "cnn.add(tf.keras.layers.Dense(5,activation='softmax'))"
      ],
      "execution_count": null,
      "outputs": []
    },
    {
      "cell_type": "code",
      "metadata": {
        "id": "YFt094vkCIr3"
      },
      "source": [
        "cnn.compile(optimizer=tf.keras.optimizers.Adam(),loss='categorical_crossentropy',metrics=['accuracy'])\n"
      ],
      "execution_count": null,
      "outputs": []
    },
    {
      "cell_type": "code",
      "metadata": {
        "colab": {
          "base_uri": "https://localhost:8080/"
        },
        "id": "weAetYzbCK33",
        "outputId": "23ded8d4-e9f7-4f56-9d53-b8f3450dfedf"
      },
      "source": [
        "cnn.fit(train_datagen,epochs=20,validation_data=test_datagen)\n"
      ],
      "execution_count": null,
      "outputs": [
        {
          "output_type": "stream",
          "name": "stdout",
          "text": [
            "Epoch 1/20\n",
            "45/45 [==============================] - 771s 17s/step - loss: 1.2682 - accuracy: 0.4963 - val_loss: 1.1968 - val_accuracy: 0.5000\n",
            "Epoch 2/20\n",
            "45/45 [==============================] - 139s 3s/step - loss: 0.9343 - accuracy: 0.6401 - val_loss: 0.7979 - val_accuracy: 0.7201\n",
            "Epoch 3/20\n",
            "45/45 [==============================] - 135s 3s/step - loss: 0.6711 - accuracy: 0.7577 - val_loss: 0.7180 - val_accuracy: 0.7390\n",
            "Epoch 4/20\n",
            "45/45 [==============================] - 136s 3s/step - loss: 0.5823 - accuracy: 0.7919 - val_loss: 0.6589 - val_accuracy: 0.7610\n",
            "Epoch 5/20\n",
            "45/45 [==============================] - 136s 3s/step - loss: 0.4885 - accuracy: 0.8211 - val_loss: 0.5225 - val_accuracy: 0.8113\n",
            "Epoch 6/20\n",
            "45/45 [==============================] - 135s 3s/step - loss: 0.4293 - accuracy: 0.8427 - val_loss: 0.5267 - val_accuracy: 0.8050\n",
            "Epoch 7/20\n",
            "45/45 [==============================] - 140s 3s/step - loss: 0.3991 - accuracy: 0.8562 - val_loss: 0.4565 - val_accuracy: 0.8648\n",
            "Epoch 8/20\n",
            "45/45 [==============================] - 136s 3s/step - loss: 0.4197 - accuracy: 0.8409 - val_loss: 0.5091 - val_accuracy: 0.8270\n",
            "Epoch 9/20\n",
            "45/45 [==============================] - 136s 3s/step - loss: 0.3734 - accuracy: 0.8653 - val_loss: 0.4397 - val_accuracy: 0.8428\n",
            "Epoch 10/20\n",
            "45/45 [==============================] - 137s 3s/step - loss: 0.3522 - accuracy: 0.8691 - val_loss: 0.4724 - val_accuracy: 0.8239\n",
            "Epoch 11/20\n",
            "45/45 [==============================] - 142s 3s/step - loss: 0.3467 - accuracy: 0.8733 - val_loss: 0.3839 - val_accuracy: 0.8711\n",
            "Epoch 12/20\n",
            "45/45 [==============================] - 143s 3s/step - loss: 0.3224 - accuracy: 0.8796 - val_loss: 0.3563 - val_accuracy: 0.8742\n",
            "Epoch 13/20\n",
            "45/45 [==============================] - 141s 3s/step - loss: 0.2888 - accuracy: 0.8959 - val_loss: 0.3442 - val_accuracy: 0.8899\n",
            "Epoch 14/20\n",
            "45/45 [==============================] - 139s 3s/step - loss: 0.3021 - accuracy: 0.8893 - val_loss: 0.3656 - val_accuracy: 0.8679\n",
            "Epoch 15/20\n",
            "45/45 [==============================] - 141s 3s/step - loss: 0.2872 - accuracy: 0.8959 - val_loss: 0.3110 - val_accuracy: 0.9088\n",
            "Epoch 16/20\n",
            "45/45 [==============================] - 140s 3s/step - loss: 0.2919 - accuracy: 0.8959 - val_loss: 0.4407 - val_accuracy: 0.8491\n",
            "Epoch 17/20\n",
            "45/45 [==============================] - 151s 3s/step - loss: 0.2572 - accuracy: 0.9078 - val_loss: 0.2948 - val_accuracy: 0.8994\n",
            "Epoch 18/20\n",
            "45/45 [==============================] - 148s 3s/step - loss: 0.2546 - accuracy: 0.9057 - val_loss: 0.3149 - val_accuracy: 0.8836\n",
            "Epoch 19/20\n",
            "45/45 [==============================] - 144s 3s/step - loss: 0.2550 - accuracy: 0.9060 - val_loss: 0.3305 - val_accuracy: 0.8868\n",
            "Epoch 20/20\n",
            "45/45 [==============================] - 143s 3s/step - loss: 0.2770 - accuracy: 0.9053 - val_loss: 0.2899 - val_accuracy: 0.9057\n"
          ]
        },
        {
          "output_type": "execute_result",
          "data": {
            "text/plain": [
              "<keras.callbacks.History at 0x7f461d71f0d0>"
            ]
          },
          "metadata": {},
          "execution_count": 22
        }
      ]
    },
    {
      "cell_type": "code",
      "metadata": {
        "id": "Z9GbnZQNCPz3"
      },
      "source": [
        ""
      ],
      "execution_count": null,
      "outputs": []
    }
  ]
}